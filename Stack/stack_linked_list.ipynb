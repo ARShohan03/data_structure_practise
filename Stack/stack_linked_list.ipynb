{
 "cells": [
  {
   "cell_type": "code",
   "execution_count": 1,
   "id": "371d2c82",
   "metadata": {},
   "outputs": [],
   "source": [
    "class node:\n",
    "    def __init__(self, value):\n",
    "        self.data=value\n",
    "        self.next=None"
   ]
  },
  {
   "cell_type": "code",
   "execution_count": 2,
   "id": "4a30a5fc",
   "metadata": {},
   "outputs": [],
   "source": [
    "class Stack:\n",
    "    def __init__(self):\n",
    "        self.top=None\n",
    "        self.n=0\n",
    "\n",
    "    def push(self, value):\n",
    "        newNode=node(value)\n",
    "        newNode.next=self.top\n",
    "        self.top=newNode\n",
    "        self.n=self.n+1\n",
    "    \n",
    "    def __len__(self):\n",
    "        return self.n\n",
    "    \n",
    "    def traverse(self):\n",
    "        curr=self.top\n",
    "        while curr!=None:\n",
    "            print(curr.data)\n",
    "            curr=curr.next\n",
    "        \n",
    "    def pop(self):\n",
    "        if self.top==None:\n",
    "            return \"stack is empty\"\n",
    "        curr=self.top\n",
    "        self.top=curr.next\n",
    "        self.n=self.n-1\n",
    "        return curr.data\n",
    "    \n",
    "    # def isEmpty(self):\n",
    "    #     if self.top==None:\n",
    "    #         return \"stack is empty\"\n",
    "    #     else:\n",
    "    #         return \"stack is not empty\"\n",
    "\n",
    "    def isEmpty(self):\n",
    "        if self.top is None:\n",
    "            return True\n",
    "        else:\n",
    "            return False\n",
    "        \n",
    "    def peak(self):\n",
    "        if self.top==None:\n",
    "            return \"Empty\"\n",
    "        else:\n",
    "            return \"top = \"+str(self.top.data)\n",
    "\n",
    "        "
   ]
  },
  {
   "cell_type": "code",
   "execution_count": 3,
   "id": "f76a5c93",
   "metadata": {},
   "outputs": [
    {
     "data": {
      "text/plain": [
       "4"
      ]
     },
     "execution_count": 3,
     "metadata": {},
     "output_type": "execute_result"
    }
   ],
   "source": [
    "st=Stack()\n",
    "st.push(10)\n",
    "st.push(20)\n",
    "st.push(30)\n",
    "st.push(40)\n",
    "\n",
    "st.__len__()"
   ]
  },
  {
   "cell_type": "code",
   "execution_count": 12,
   "id": "df16a1a7",
   "metadata": {},
   "outputs": [
    {
     "data": {
      "text/plain": [
       "0"
      ]
     },
     "execution_count": 12,
     "metadata": {},
     "output_type": "execute_result"
    }
   ],
   "source": [
    "# print(st.pop())\n",
    "st.pop()\n",
    "st.__len__()\n"
   ]
  },
  {
   "cell_type": "code",
   "execution_count": 13,
   "id": "f31e4e03",
   "metadata": {},
   "outputs": [
    {
     "data": {
      "text/plain": [
       "True"
      ]
     },
     "execution_count": 13,
     "metadata": {},
     "output_type": "execute_result"
    }
   ],
   "source": [
    "st.isEmpty()"
   ]
  },
  {
   "cell_type": "code",
   "execution_count": 6,
   "id": "770a0d59",
   "metadata": {},
   "outputs": [
    {
     "data": {
      "text/plain": [
       "'top = 30'"
      ]
     },
     "execution_count": 6,
     "metadata": {},
     "output_type": "execute_result"
    }
   ],
   "source": [
    "st.peak()"
   ]
  },
  {
   "cell_type": "code",
   "execution_count": 7,
   "id": "74282d36",
   "metadata": {},
   "outputs": [
    {
     "name": "stdout",
     "output_type": "stream",
     "text": [
      "30\n",
      "20\n",
      "10\n"
     ]
    }
   ],
   "source": [
    "st.traverse()"
   ]
  },
  {
   "cell_type": "code",
   "execution_count": null,
   "id": "e216b244",
   "metadata": {},
   "outputs": [],
   "source": []
  },
  {
   "cell_type": "code",
   "execution_count": null,
   "id": "b9a35b05",
   "metadata": {},
   "outputs": [],
   "source": []
  }
 ],
 "metadata": {
  "kernelspec": {
   "display_name": "Python 3",
   "language": "python",
   "name": "python3"
  },
  "language_info": {
   "codemirror_mode": {
    "name": "ipython",
    "version": 3
   },
   "file_extension": ".py",
   "mimetype": "text/x-python",
   "name": "python",
   "nbconvert_exporter": "python",
   "pygments_lexer": "ipython3",
   "version": "3.13.5"
  }
 },
 "nbformat": 4,
 "nbformat_minor": 5
}
