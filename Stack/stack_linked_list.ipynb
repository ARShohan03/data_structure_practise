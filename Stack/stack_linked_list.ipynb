{
 "cells": [
  {
   "cell_type": "code",
   "execution_count": 1,
   "id": "371d2c82",
   "metadata": {},
   "outputs": [],
   "source": [
    "class node:\n",
    "    def __init__(self, value):\n",
    "        self.data=value\n",
    "        self.next=None"
   ]
  },
  {
   "cell_type": "code",
   "execution_count": 2,
   "id": "4a30a5fc",
   "metadata": {},
   "outputs": [],
   "source": [
    "class Stack:\n",
    "    def __init__(self):\n",
    "        self.top=None\n",
    "        self.n=0\n",
    "\n",
    "    def push(self, value):\n",
    "        newNode=node(value)\n",
    "        newNode.next=self.top\n",
    "        self.top=newNode\n",
    "        self.n=self.n+1\n",
    "    \n",
    "    def __len__(self):\n",
    "        return self.n\n",
    "    \n",
    "    def traverse(self):\n",
    "        curr=self.top\n",
    "        while curr!=None:\n",
    "            print(curr.data)\n",
    "            curr=curr.next\n",
    "        \n",
    "    def pop(self):\n",
    "        if self.top==None:\n",
    "            return \"stack is empty\"\n",
    "        curr=self.top\n",
    "        self.top=curr.next\n",
    "        self.n=self.n-1\n",
    "        return curr.data\n",
    "    \n",
    "    # def isEmpty(self):\n",
    "    #     if self.top==None:\n",
    "    #         return \"stack is empty\"\n",
    "    #     else:\n",
    "    #         return \"stack is not empty\"\n",
    "\n",
    "    def isEmpty(self):\n",
    "        if self.top is None:\n",
    "            return True\n",
    "        else:\n",
    "            return False\n",
    "        \n",
    "    def peak(self):\n",
    "        if self.top==None:\n",
    "            return \"Empty\"\n",
    "        else:\n",
    "            return \"top = \"+str(self.top.data)\n",
    "\n",
    "        "
   ]
  },
  {
   "cell_type": "code",
   "execution_count": 48,
   "id": "f76a5c93",
   "metadata": {},
   "outputs": [
    {
     "data": {
      "text/plain": [
       "4"
      ]
     },
     "execution_count": 48,
     "metadata": {},
     "output_type": "execute_result"
    }
   ],
   "source": [
    "st=Stack()\n",
    "st.push(10)\n",
    "st.push(20)\n",
    "st.push(30)\n",
    "st.push(40)\n",
    "\n",
    "st.__len__()"
   ]
  },
  {
   "cell_type": "code",
   "execution_count": 49,
   "id": "a5537ad5",
   "metadata": {},
   "outputs": [],
   "source": [
    "def reverse(str):\n",
    "    st1=Stack()\n",
    "    st2=Stack()\n",
    "    for i in str:\n",
    "        st1.push(i)\n",
    "    res=\"\"\n",
    "    while not st1.isEmpty():\n",
    "        data=st1.pop()\n",
    "        res=res+data\n",
    "        print(res)\n",
    "        \n"
   ]
  },
  {
   "cell_type": "code",
   "execution_count": 50,
   "id": "df16a1a7",
   "metadata": {},
   "outputs": [
    {
     "data": {
      "text/plain": [
       "3"
      ]
     },
     "execution_count": 50,
     "metadata": {},
     "output_type": "execute_result"
    }
   ],
   "source": [
    "# print(st.pop())\n",
    "st.pop()\n",
    "st.__len__()\n"
   ]
  },
  {
   "cell_type": "code",
   "execution_count": 51,
   "id": "f31e4e03",
   "metadata": {},
   "outputs": [
    {
     "data": {
      "text/plain": [
       "False"
      ]
     },
     "execution_count": 51,
     "metadata": {},
     "output_type": "execute_result"
    }
   ],
   "source": [
    "st.isEmpty()"
   ]
  },
  {
   "cell_type": "code",
   "execution_count": 52,
   "id": "770a0d59",
   "metadata": {},
   "outputs": [
    {
     "ename": "TypeError",
     "evalue": "'str' object is not callable",
     "output_type": "error",
     "traceback": [
      "\u001b[31m---------------------------------------------------------------------------\u001b[39m",
      "\u001b[31mTypeError\u001b[39m                                 Traceback (most recent call last)",
      "\u001b[36mCell\u001b[39m\u001b[36m \u001b[39m\u001b[32mIn[52]\u001b[39m\u001b[32m, line 1\u001b[39m\n\u001b[32m----> \u001b[39m\u001b[32m1\u001b[39m \u001b[43mst\u001b[49m\u001b[43m.\u001b[49m\u001b[43mpeak\u001b[49m\u001b[43m(\u001b[49m\u001b[43m)\u001b[49m\n",
      "\u001b[36mCell\u001b[39m\u001b[36m \u001b[39m\u001b[32mIn[47]\u001b[39m\u001b[32m, line 45\u001b[39m, in \u001b[36mStack.peak\u001b[39m\u001b[34m(self)\u001b[39m\n\u001b[32m     43\u001b[39m     \u001b[38;5;28;01mreturn\u001b[39;00m \u001b[33m\"\u001b[39m\u001b[33mEmpty\u001b[39m\u001b[33m\"\u001b[39m\n\u001b[32m     44\u001b[39m \u001b[38;5;28;01melse\u001b[39;00m:\n\u001b[32m---> \u001b[39m\u001b[32m45\u001b[39m     \u001b[38;5;28;01mreturn\u001b[39;00m \u001b[33m\"\u001b[39m\u001b[33mtop = \u001b[39m\u001b[33m\"\u001b[39m+\u001b[38;5;28;43mstr\u001b[39;49m\u001b[43m(\u001b[49m\u001b[38;5;28;43mself\u001b[39;49m\u001b[43m.\u001b[49m\u001b[43mtop\u001b[49m\u001b[43m.\u001b[49m\u001b[43mdata\u001b[49m\u001b[43m)\u001b[49m\n",
      "\u001b[31mTypeError\u001b[39m: 'str' object is not callable"
     ]
    }
   ],
   "source": [
    "st.peak()"
   ]
  },
  {
   "cell_type": "code",
   "execution_count": null,
   "id": "74282d36",
   "metadata": {},
   "outputs": [
    {
     "name": "stdout",
     "output_type": "stream",
     "text": [
      "30\n",
      "20\n",
      "10\n"
     ]
    }
   ],
   "source": [
    "st.traverse()"
   ]
  },
  {
   "cell_type": "code",
   "execution_count": null,
   "id": "e216b244",
   "metadata": {},
   "outputs": [
    {
     "name": "stdout",
     "output_type": "stream",
     "text": [
      "o\n",
      "ol\n",
      "oll\n",
      "olle\n",
      "olleH\n"
     ]
    }
   ],
   "source": [
    "str=\"Hello\"\n",
    "reverse(str)"
   ]
  },
  {
   "cell_type": "code",
   "execution_count": null,
   "id": "875a1f91",
   "metadata": {},
   "outputs": [],
   "source": [
    "def text_editor(text, pattern):\n",
    "    st1=Stack()\n",
    "    st2=Stack()\n",
    "    for i in text:\n",
    "        st1.push(i)\n",
    "    for i in pattern:\n",
    "        if i == \"u\" :\n",
    "            data=st1.pop()\n",
    "            st2.push(data)\n",
    "        if i == \"r\":\n",
    "            data=st2.pop()\n",
    "            st1.push(data)\n",
    "    res=\"\"\n",
    "    while (not st1.isEmpty()):\n",
    "        data=st1.pop()\n",
    "        res=data+res\n",
    "    return res\n",
    "\n",
    "\n",
    "    \n"
   ]
  },
  {
   "cell_type": "code",
   "execution_count": null,
   "id": "c60b5f0e",
   "metadata": {},
   "outputs": [
    {
     "data": {
      "text/plain": [
       "'He'"
      ]
     },
     "execution_count": 11,
     "metadata": {},
     "output_type": "execute_result"
    }
   ],
   "source": [
    "text_editor(\"Hello\",\"uurruuuur\")"
   ]
  },
  {
   "cell_type": "code",
   "execution_count": 3,
   "id": "b322db16",
   "metadata": {},
   "outputs": [],
   "source": [
    "l=[\n",
    "    [0,0,0,1],\n",
    "    [0,1,0,1],\n",
    "    [1,0,0,1],\n",
    "    [0,0,0,0]\n",
    "]"
   ]
  },
  {
   "cell_type": "code",
   "execution_count": 4,
   "id": "afe154a0",
   "metadata": {},
   "outputs": [
    {
     "name": "stdout",
     "output_type": "stream",
     "text": [
      "4\n"
     ]
    },
    {
     "data": {
      "text/plain": [
       "0"
      ]
     },
     "execution_count": 4,
     "metadata": {},
     "output_type": "execute_result"
    }
   ],
   "source": [
    "print(len(l))\n",
    "l[1][0]\n"
   ]
  },
  {
   "cell_type": "code",
   "execution_count": 5,
   "id": "34710db9",
   "metadata": {},
   "outputs": [],
   "source": [
    "def celbrity(l):\n",
    "    s=Stack()\n",
    "\n",
    "    for i in range(len(l)):\n",
    "        s.push(i)\n",
    "    # s.traverse()    \n",
    "    # print(s.__len__())\n",
    "    while (s.__len__())>=2:\n",
    "        i=s.pop()\n",
    "        j=s.pop()\n",
    "\n",
    "        if l[i][j]==0:\n",
    "            s.push(i)\n",
    "        else:\n",
    "            s.push(j)\n",
    "        \n",
    "    celb=s.pop()\n",
    "    for i in range (len(l)):\n",
    "        if i != celb:\n",
    "            if l[i][celb]==0 or l[celb][i]==1:\n",
    "                return \"celb is absent\"\n",
    "    return str(celb)+\" is the celebrity\"    \n",
    "    "
   ]
  },
  {
   "cell_type": "code",
   "execution_count": 6,
   "id": "1465332f",
   "metadata": {},
   "outputs": [
    {
     "data": {
      "text/plain": [
       "'3 is the celebrity'"
      ]
     },
     "execution_count": 6,
     "metadata": {},
     "output_type": "execute_result"
    }
   ],
   "source": [
    "# print(celbrity(l))\n",
    "celbrity(l)"
   ]
  },
  {
   "cell_type": "code",
   "execution_count": null,
   "id": "b1ede0d2",
   "metadata": {},
   "outputs": [],
   "source": []
  }
 ],
 "metadata": {
  "kernelspec": {
   "display_name": "Python 3",
   "language": "python",
   "name": "python3"
  },
  "language_info": {
   "codemirror_mode": {
    "name": "ipython",
    "version": 3
   },
   "file_extension": ".py",
   "mimetype": "text/x-python",
   "name": "python",
   "nbconvert_exporter": "python",
   "pygments_lexer": "ipython3",
   "version": "3.13.5"
  }
 },
 "nbformat": 4,
 "nbformat_minor": 5
}
