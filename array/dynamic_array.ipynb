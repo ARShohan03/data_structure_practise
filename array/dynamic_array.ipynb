{
 "cells": [
  {
   "cell_type": "code",
   "execution_count": 17,
   "id": "49478b5a",
   "metadata": {},
   "outputs": [],
   "source": [
    "import ctypes"
   ]
  },
  {
   "cell_type": "code",
   "execution_count": 30,
   "id": "b4a012f4",
   "metadata": {},
   "outputs": [],
   "source": [
    "class amrList:\n",
    "    def __init__(self):\n",
    "        self.size=1\n",
    "        self.n=0\n",
    "        self.A=self.__makeArray(self.size)\n",
    "\n",
    "    def __makeArray(self, capacity):\n",
    "        return (capacity*ctypes.py_object)()\n",
    "    \n",
    "    def append(self, item):\n",
    "        if self.n==self.size:\n",
    "            self.resize(2*self.size)\n",
    "        self.A[self.n]=item\n",
    "        self.n+=1\n",
    "\n",
    "    def __len__(self):\n",
    "        return self.n\n",
    "    \n",
    "    def clear(self):\n",
    "        self.size=1\n",
    "        self.n=0\n",
    "\n",
    "    def __str__(self):\n",
    "        result=\"\"\n",
    "        for i in range(self.n):\n",
    "            result+=str(self.A[i])+\",\"\n",
    "        return \"[\"+result[:-1]+\"]\" \n",
    "    \n",
    "    def pop(self):\n",
    "        if self.n==0:\n",
    "            print(\"empty list\")\n",
    "        else:\n",
    "           print(\"poped item is :\", self.A[self.n-1])\n",
    "           self.n=self.n-1              \n",
    "    \n",
    "    def resize(self, new_cap):\n",
    "        B=self.__makeArray(new_cap)\n",
    "        for i in range(self.n):\n",
    "            B[i]=self.A[i]\n",
    "        self.A=B       \n",
    "        self.size=new_cap\n",
    "\n",
    "    def find(self, item):\n",
    "        print(self.A[2])\n",
    "        for i in range(self.n):\n",
    "            if self.A[i]==item:\n",
    "                return \"the item is \" + str(self.A[i])+\" at the position \"+ str(i)\n",
    "        return \"item is not found\"\n",
    "    def get_item(self, index):\n",
    "        if 0<=index<self.n:\n",
    "            return self.A[index]\n",
    "        else:\n",
    "            return \"invalid index\"\n",
    "        \n",
    "    def del_item(self, index):\n",
    "        if 0<=index<self.n:\n",
    "            for i in range (index, self.n-1):\n",
    "                self.A[i]=self.A[i+1]\n",
    "            self.n=self.n-1\n",
    "        else:\n",
    "            return \"invalid index\""
   ]
  },
  {
   "cell_type": "code",
   "execution_count": 31,
   "id": "e21fe902",
   "metadata": {},
   "outputs": [
    {
     "data": {
      "text/plain": [
       "<__main__.amrList at 0x2891dda2a50>"
      ]
     },
     "execution_count": 31,
     "metadata": {},
     "output_type": "execute_result"
    }
   ],
   "source": [
    "ls=amrList()\n",
    "ls.append(10)\n",
    "ls.append(\"hello\")\n",
    "ls.append(3.5)\n",
    "ls.append(True)\n",
    "ls"
   ]
  },
  {
   "cell_type": "code",
   "execution_count": 32,
   "id": "12d27e4d",
   "metadata": {},
   "outputs": [
    {
     "name": "stdout",
     "output_type": "stream",
     "text": [
      "4\n",
      "[10,hello,3.5,True]\n"
     ]
    }
   ],
   "source": [
    "print(len(ls))\n",
    "print(ls)"
   ]
  },
  {
   "cell_type": "code",
   "execution_count": 33,
   "id": "5a4bd518",
   "metadata": {},
   "outputs": [
    {
     "name": "stdout",
     "output_type": "stream",
     "text": [
      "3.5\n"
     ]
    },
    {
     "data": {
      "text/plain": [
       "'the item is 3.5 at the position 2'"
      ]
     },
     "execution_count": 33,
     "metadata": {},
     "output_type": "execute_result"
    }
   ],
   "source": [
    "# ls.clear()\n",
    "ls.find(3.5)"
   ]
  },
  {
   "cell_type": "code",
   "execution_count": 35,
   "id": "f4d7651b",
   "metadata": {},
   "outputs": [
    {
     "name": "stdout",
     "output_type": "stream",
     "text": [
      "None\n"
     ]
    }
   ],
   "source": [
    "print(ls.del_item(1))"
   ]
  },
  {
   "cell_type": "code",
   "execution_count": 37,
   "id": "d93364a1",
   "metadata": {},
   "outputs": [
    {
     "name": "stdout",
     "output_type": "stream",
     "text": [
      "[10,3.5,True]\n"
     ]
    }
   ],
   "source": [
    "print(ls)"
   ]
  },
  {
   "cell_type": "code",
   "execution_count": null,
   "id": "8d748ce4",
   "metadata": {},
   "outputs": [],
   "source": []
  },
  {
   "cell_type": "code",
   "execution_count": null,
   "id": "9978b1ba",
   "metadata": {},
   "outputs": [],
   "source": []
  },
  {
   "cell_type": "code",
   "execution_count": null,
   "id": "47ee5306",
   "metadata": {},
   "outputs": [],
   "source": []
  },
  {
   "cell_type": "code",
   "execution_count": null,
   "id": "ad2bfa00",
   "metadata": {},
   "outputs": [],
   "source": []
  },
  {
   "cell_type": "code",
   "execution_count": null,
   "id": "b815cda5",
   "metadata": {},
   "outputs": [],
   "source": []
  },
  {
   "cell_type": "code",
   "execution_count": null,
   "id": "f8f398a8",
   "metadata": {},
   "outputs": [],
   "source": []
  },
  {
   "cell_type": "code",
   "execution_count": null,
   "id": "2dd60209",
   "metadata": {},
   "outputs": [],
   "source": []
  },
  {
   "cell_type": "code",
   "execution_count": null,
   "id": "9f65f743",
   "metadata": {},
   "outputs": [],
   "source": []
  },
  {
   "cell_type": "code",
   "execution_count": null,
   "id": "e6e39d4c",
   "metadata": {},
   "outputs": [],
   "source": []
  }
 ],
 "metadata": {
  "kernelspec": {
   "display_name": "Python 3",
   "language": "python",
   "name": "python3"
  },
  "language_info": {
   "codemirror_mode": {
    "name": "ipython",
    "version": 3
   },
   "file_extension": ".py",
   "mimetype": "text/x-python",
   "name": "python",
   "nbconvert_exporter": "python",
   "pygments_lexer": "ipython3",
   "version": "3.13.5"
  }
 },
 "nbformat": 4,
 "nbformat_minor": 5
}
