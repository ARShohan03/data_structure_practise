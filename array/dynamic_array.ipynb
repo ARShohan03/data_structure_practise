{
 "cells": [
  {
   "cell_type": "code",
   "execution_count": 25,
   "id": "49478b5a",
   "metadata": {},
   "outputs": [],
   "source": [
    "import ctypes"
   ]
  },
  {
   "cell_type": "code",
   "execution_count": 63,
   "id": "b4a012f4",
   "metadata": {},
   "outputs": [],
   "source": [
    "class amrList:\n",
    "    def __init__(self):\n",
    "        self.size=1\n",
    "        self.n=0\n",
    "        self.A=self.__makeArray(self.size)\n",
    "\n",
    "    def __makeArray(self, capacity):\n",
    "        return (capacity*ctypes.py_object)()\n",
    "    \n",
    "    def append(self, item):\n",
    "        if self.n==self.size:\n",
    "            self.resize(2*self.size)\n",
    "        self.A[self.n]=item\n",
    "        self.n+=1\n",
    "\n",
    "    def __len__(self):\n",
    "        return self.n\n",
    "    \n",
    "    def size(self):\n",
    "        return self.size\n",
    "    \n",
    "    def clear(self):\n",
    "        self.size=1\n",
    "        self.n=0\n",
    "\n",
    "    def __str__(self):\n",
    "        result=\"\"\n",
    "        for i in range(self.n):\n",
    "            result+=str(self.A[i])+\",\"\n",
    "        return \"[\"+result[:-1]+\"]\" \n",
    "    \n",
    "    def pop(self):\n",
    "        if self.n==0:\n",
    "            print(\"empty list\")\n",
    "        else:\n",
    "           print(\"poped item is :\", self.A[self.n-1])\n",
    "           self.n=self.n-1              \n",
    "    \n",
    "    def resize(self, new_cap):\n",
    "        B=self.__makeArray(new_cap)\n",
    "        for i in range(self.n):\n",
    "            B[i]=self.A[i]\n",
    "        self.A=B       \n",
    "        self.size=new_cap\n",
    "\n",
    "    def find(self, item):\n",
    "        print(self.A[2])\n",
    "        for i in range(self.n):\n",
    "            if self.A[i]==item:\n",
    "                return \"the item is \" + str(self.A[i])+\" at the position \"+ str(i)\n",
    "        return \"item is not found\"\n",
    "    def get_item(self, index):\n",
    "        if 0<=index<self.n:\n",
    "            return self.A[index]\n",
    "        else:\n",
    "            return \"invalid index\"\n",
    "    \n",
    "    def insert(self, pos, item):\n",
    "        if 0<=pos<=self.n:\n",
    "            if self.n==self.size:\n",
    "                print(\"this portion is working\")\n",
    "                self.resize(2*self.size)\n",
    "            \n",
    "            for i in range(self.n, pos, -1):\n",
    "                print(\"i=\", i)\n",
    "                self.A[i]=self.A[i-1]\n",
    "            self.A[pos]=item\n",
    "            self.n=self.n+1\n",
    "        else:\n",
    "            return \"invalid index\"\n",
    "        \n",
    "    def del_item(self, index):\n",
    "        if 0<=index<self.n:\n",
    "            for i in range (index, self.n-1):\n",
    "                self.A[i]=self.A[i+1]\n",
    "            self.n=self.n-1\n",
    "        else:\n",
    "            return \"invalid index\""
   ]
  },
  {
   "cell_type": "code",
   "execution_count": 64,
   "id": "e21fe902",
   "metadata": {},
   "outputs": [
    {
     "data": {
      "text/plain": [
       "<__main__.amrList at 0x1e58613f380>"
      ]
     },
     "execution_count": 64,
     "metadata": {},
     "output_type": "execute_result"
    }
   ],
   "source": [
    "ls=amrList()\n",
    "ls.append(10)\n",
    "ls.append(20)\n",
    "ls.append(30)\n",
    "ls.append(40)\n",
    "ls.append(50)\n",
    "ls"
   ]
  },
  {
   "cell_type": "code",
   "execution_count": 65,
   "id": "12d27e4d",
   "metadata": {},
   "outputs": [
    {
     "name": "stdout",
     "output_type": "stream",
     "text": [
      "5\n",
      "[10,20,30,40,50]\n",
      "8\n"
     ]
    }
   ],
   "source": [
    "print(len(ls))\n",
    "print(ls)\n",
    "print(ls.size)"
   ]
  },
  {
   "cell_type": "code",
   "execution_count": 62,
   "id": "5a4bd518",
   "metadata": {},
   "outputs": [],
   "source": [
    "ls.clear()\n",
    "# ls.find(3.5)"
   ]
  },
  {
   "cell_type": "code",
   "execution_count": null,
   "id": "f4d7651b",
   "metadata": {},
   "outputs": [
    {
     "name": "stdout",
     "output_type": "stream",
     "text": [
      "None\n"
     ]
    }
   ],
   "source": [
    "# print(ls.del_item(1))"
   ]
  },
  {
   "cell_type": "code",
   "execution_count": 66,
   "id": "d93364a1",
   "metadata": {},
   "outputs": [
    {
     "name": "stdout",
     "output_type": "stream",
     "text": [
      "i= 5\n",
      "i= 4\n",
      "[10,20,30,60,40,50]\n"
     ]
    }
   ],
   "source": [
    "ls.insert(3, 60)\n",
    "print(ls)"
   ]
  },
  {
   "cell_type": "code",
   "execution_count": 53,
   "id": "8d748ce4",
   "metadata": {},
   "outputs": [
    {
     "name": "stdout",
     "output_type": "stream",
     "text": [
      "10\n",
      "9\n",
      "8\n",
      "7\n",
      "6\n"
     ]
    }
   ],
   "source": [
    "for i in range (10, 5, -1):\n",
    "    print(i)"
   ]
  },
  {
   "cell_type": "code",
   "execution_count": 67,
   "id": "e6e39d4c",
   "metadata": {},
   "outputs": [
    {
     "name": "stdout",
     "output_type": "stream",
     "text": [
      "6\n",
      "[10,20,30,60,40,50]\n",
      "8\n"
     ]
    }
   ],
   "source": [
    "print(len(ls))\n",
    "print(ls)\n",
    "print(ls.size)"
   ]
  },
  {
   "cell_type": "code",
   "execution_count": null,
   "id": "fb215aac",
   "metadata": {},
   "outputs": [],
   "source": []
  }
 ],
 "metadata": {
  "kernelspec": {
   "display_name": "Python 3",
   "language": "python",
   "name": "python3"
  },
  "language_info": {
   "codemirror_mode": {
    "name": "ipython",
    "version": 3
   },
   "file_extension": ".py",
   "mimetype": "text/x-python",
   "name": "python",
   "nbconvert_exporter": "python",
   "pygments_lexer": "ipython3",
   "version": "3.13.5"
  }
 },
 "nbformat": 4,
 "nbformat_minor": 5
}
