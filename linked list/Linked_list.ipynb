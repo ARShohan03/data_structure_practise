{
 "cells": [
  {
   "cell_type": "code",
   "execution_count": 1,
   "id": "a3657ac4",
   "metadata": {},
   "outputs": [],
   "source": [
    "class node:\n",
    "    def __init__(self, value):\n",
    "        self.data=value\n",
    "        self.next=None"
   ]
  },
  {
   "cell_type": "code",
   "execution_count": 2,
   "id": "e410c283",
   "metadata": {},
   "outputs": [],
   "source": [
    "a=node(10)\n",
    "b=node(20)\n",
    "c=node(30)"
   ]
  },
  {
   "cell_type": "code",
   "execution_count": 3,
   "id": "2b4ab75a",
   "metadata": {},
   "outputs": [
    {
     "name": "stdout",
     "output_type": "stream",
     "text": [
      "<__main__.node object at 0x000001FA54467E00>\n",
      "None\n",
      "<__main__.node object at 0x000001FA54407750>\n",
      "None\n"
     ]
    }
   ],
   "source": [
    "a.data\n",
    "print(a)\n",
    "print(a.next)\n",
    "b.data\n",
    "print(b)\n",
    "print(b.next)"
   ]
  },
  {
   "cell_type": "code",
   "execution_count": 4,
   "id": "9ae297f8",
   "metadata": {},
   "outputs": [
    {
     "name": "stdout",
     "output_type": "stream",
     "text": [
      "None\n"
     ]
    }
   ],
   "source": [
    "a.next=b\n",
    "b.next=c\n",
    "print(c.next)"
   ]
  },
  {
   "cell_type": "code",
   "execution_count": 5,
   "id": "18d9c0ed",
   "metadata": {},
   "outputs": [],
   "source": [
    "class node:\n",
    "    def __init__(self, value):\n",
    "        self.data=value\n",
    "        self.next=None"
   ]
  },
  {
   "cell_type": "code",
   "execution_count": 189,
   "id": "2dc3574b",
   "metadata": {},
   "outputs": [],
   "source": [
    "class linkedList:\n",
    "    def __init__(self): #empty list\n",
    "        self.head=None\n",
    "        self.n=0\n",
    "\n",
    "    def __len__(self):\n",
    "        return self.n\n",
    "    \n",
    "    def insertHead(self, value):\n",
    "        newNode=node(value)\n",
    "        newNode.next=self.head\n",
    "        self.head=newNode\n",
    "        self.n+=1\n",
    "\n",
    "    def append(self, value):\n",
    "        if self.head==None:\n",
    "            self.insertHead(value)\n",
    "            return\n",
    "        curr=self.head\n",
    "        newNode=node(value)\n",
    "\n",
    "        while curr.next!=None:\n",
    "            curr=curr.next\n",
    "\n",
    "        curr.next=newNode\n",
    "        newNode.next=None\n",
    "        self.n+=1\n",
    "    \n",
    "    def __str__(self):\n",
    "        curr=self.head\n",
    "        result=\"\"\n",
    "        while curr!=None:\n",
    "            result=result+str(curr.data)+\"->\"\n",
    "            curr=curr.next\n",
    "        return result[:-2]\n",
    "    \n",
    "    def insert_after(self, pos, item):\n",
    "        newNode=node(item)\n",
    "        count=0\n",
    "        curr=self.head\n",
    "\n",
    "        while curr!=None:\n",
    "            if count==pos:\n",
    "                newNode.next=curr.next\n",
    "                curr.next=newNode\n",
    "                self.n=self.n+1\n",
    "                return \n",
    "            count+=1\n",
    "            curr=curr.next\n",
    "    \n",
    "        return \"Invalid Position\"\n",
    "    \n",
    "    def clear(self):\n",
    "        self.head=None\n",
    "        self.n=0\n",
    "\n",
    "    def delete_head(self):\n",
    "        if self.head==None:\n",
    "            return \"list is empty\"\n",
    "        self.head=self.head.next\n",
    "        self.n=self.n-1\n",
    "        return\n",
    "\n",
    "    def pop(self):\n",
    "\n",
    "        curr=self.head\n",
    "\n",
    "        if self.head==None:\n",
    "            return \"Empty list\"\n",
    "        \n",
    "        if self.n==1:\n",
    "            self.delete_head()\n",
    "            return \n",
    "        while(curr.next.next!=None):\n",
    "            curr=curr.next\n",
    "        curr.next=None\n",
    "        self.n=self.n-1\n",
    "\n",
    "    def remove(self, value):\n",
    "\n",
    "        if self.head==None:\n",
    "            return \"list is empty\"\n",
    "\n",
    "        if self.head.data==value:\n",
    "            self.delete_head()\n",
    "            return\n",
    "\n",
    "        curr=self.head\n",
    "        while curr.next!=None:\n",
    "            if curr.next.data==value:\n",
    "                curr.next=curr.next.next\n",
    "                self.n=self.n-1\n",
    "                return\n",
    "            curr=curr.next\n",
    "        return \"value not found\"\n",
    "    \n",
    "    def search(self, value):\n",
    "\n",
    "        if self.head==None:\n",
    "            return \"list is empty\"\n",
    "\n",
    "        curr=self.head\n",
    "        pos=0\n",
    "        while curr!=None:\n",
    "            if curr.data == value :\n",
    "                return \"position is \"+str(pos)\n",
    "            pos=pos+1\n",
    "            curr=curr.next\n",
    "        return \"value is not in the list\"\n",
    "    \n",
    "    def __getitem__(self, index):\n",
    "\n",
    "        if self.head==None:\n",
    "            return \"empty list\"\n",
    "\n",
    "        curr=self.head\n",
    "        count=0\n",
    "        while curr!=None:\n",
    "            if count==index:\n",
    "                return curr.data\n",
    "            count+=1\n",
    "            curr=curr.next\n",
    "        return \"index is invalid\"\n"
   ]
  },
  {
   "cell_type": "code",
   "execution_count": 190,
   "id": "89029960",
   "metadata": {},
   "outputs": [],
   "source": [
    "ll=linkedList()\n",
    "ll.insertHead(10)\n",
    "ll.append(20)\n",
    "ll.append(30)\n",
    "ll.append(40)\n",
    "ll.append(50)\n",
    "ll.insert_after(2, 60)\n",
    "\n"
   ]
  },
  {
   "cell_type": "code",
   "execution_count": 203,
   "id": "aa8e1c95",
   "metadata": {},
   "outputs": [
    {
     "data": {
      "text/plain": [
       "'empty list'"
      ]
     },
     "execution_count": 203,
     "metadata": {},
     "output_type": "execute_result"
    }
   ],
   "source": [
    "# ll.clear()\n",
    "\n",
    "ll.__getitem__(2)"
   ]
  },
  {
   "cell_type": "code",
   "execution_count": 202,
   "id": "a71f2ce5",
   "metadata": {},
   "outputs": [
    {
     "name": "stdout",
     "output_type": "stream",
     "text": [
      "\n"
     ]
    },
    {
     "data": {
      "text/plain": [
       "0"
      ]
     },
     "execution_count": 202,
     "metadata": {},
     "output_type": "execute_result"
    }
   ],
   "source": [
    "print(ll)\n",
    "len(ll)\n"
   ]
  },
  {
   "cell_type": "code",
   "execution_count": null,
   "id": "6569d906",
   "metadata": {},
   "outputs": [],
   "source": []
  },
  {
   "cell_type": "code",
   "execution_count": null,
   "id": "78ecfcec",
   "metadata": {},
   "outputs": [],
   "source": []
  }
 ],
 "metadata": {
  "kernelspec": {
   "display_name": "Python 3",
   "language": "python",
   "name": "python3"
  },
  "language_info": {
   "codemirror_mode": {
    "name": "ipython",
    "version": 3
   },
   "file_extension": ".py",
   "mimetype": "text/x-python",
   "name": "python",
   "nbconvert_exporter": "python",
   "pygments_lexer": "ipython3",
   "version": "3.13.5"
  }
 },
 "nbformat": 4,
 "nbformat_minor": 5
}
