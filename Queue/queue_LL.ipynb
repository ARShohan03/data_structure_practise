{
 "cells": [
  {
   "cell_type": "code",
   "execution_count": 1,
   "id": "9a81dfb6",
   "metadata": {},
   "outputs": [],
   "source": [
    "class Node :\n",
    "    def __init__(self, value):\n",
    "        self.data=value\n",
    "        self.next=None\n"
   ]
  },
  {
   "cell_type": "code",
   "execution_count": 8,
   "id": "dfd8dcfc",
   "metadata": {},
   "outputs": [],
   "source": [
    "class Queue:\n",
    "    def __init__(self):\n",
    "        self.front=None\n",
    "        self.rear=None\n",
    "\n",
    "    def enqueue(self, val):\n",
    "        new_node=Node(val)\n",
    "        if self.front==None:\n",
    "            self.rear=new_node\n",
    "            self.front=new_node\n",
    "        self.rear.next=new_node\n",
    "        self.rear=new_node\n",
    "    \n",
    "    def traverse(self):\n",
    "        if self.front==None:\n",
    "            print(\"Queue is empty\")\n",
    "        \n",
    "        curr=self.front\n",
    "        result=\"\"\n",
    "        while curr is not None:\n",
    "            result=result+str(curr.data)+\"->\"\n",
    "            curr=curr.next\n",
    "        # print(result)\n",
    "        return result[:-2]\n",
    "    \n",
    "    def size(self):\n",
    "        curr=self.front\n",
    "        if self.front==None:\n",
    "            return \"queue is empty\"\n",
    "        else:\n",
    "            n=0\n",
    "            while curr!=None:\n",
    "                n=n+1\n",
    "                curr=curr.next\n",
    "        return n\n",
    "                \n",
    "    def dequeue(self):\n",
    "        if self.front==None:\n",
    "            return \"queue is empty\"\n",
    "        \n",
    "        else:\n",
    "            dt=self.front.next\n",
    "            self.front=dt\n",
    "\n",
    "    def isEmpty(self):\n",
    "        if self.front==None:\n",
    "            return True\n",
    "        else:\n",
    "            return False\n",
    "        \n",
    "    def qClear(self):\n",
    "        if q.isEmpty==True:\n",
    "            return \"queue is already empty\"\n",
    "        else:\n",
    "            self.front=None\n",
    "\n",
    "            \n",
    "    def peek_from_front(self):\n",
    "        if self.front==None:\n",
    "            return \"queue is empty\"\n",
    "        else:\n",
    "            dt=self.front.data\n",
    "        return dt \n",
    "\n",
    "    def peek_from_end(self):\n",
    "        if self.front==None:\n",
    "            return \"queue is empty\"\n",
    "        else:\n",
    "            dt=self.rear.data\n",
    "        return dt\n",
    "\n",
    "\n"
   ]
  },
  {
   "cell_type": "code",
   "execution_count": 9,
   "id": "5ecd8173",
   "metadata": {},
   "outputs": [],
   "source": [
    "q=Queue()\n",
    "q.enqueue(10)\n",
    "q.enqueue(20)\n",
    "q.enqueue(30)\n",
    "q.enqueue(40)\n"
   ]
  },
  {
   "cell_type": "code",
   "execution_count": 66,
   "id": "986f8d3f",
   "metadata": {},
   "outputs": [
    {
     "name": "stdout",
     "output_type": "stream",
     "text": [
      "4\n"
     ]
    },
    {
     "data": {
      "text/plain": [
       "'10->20->30->40'"
      ]
     },
     "execution_count": 66,
     "metadata": {},
     "output_type": "execute_result"
    }
   ],
   "source": [
    "# print(q.traverse())\n",
    "print(q.size())\n",
    "q.traverse()"
   ]
  },
  {
   "cell_type": "code",
   "execution_count": 67,
   "id": "2ce4c732",
   "metadata": {},
   "outputs": [],
   "source": [
    "q.dequeue()"
   ]
  },
  {
   "cell_type": "code",
   "execution_count": 70,
   "id": "61e05ac6",
   "metadata": {},
   "outputs": [
    {
     "data": {
      "text/plain": [
       "True"
      ]
     },
     "execution_count": 70,
     "metadata": {},
     "output_type": "execute_result"
    }
   ],
   "source": [
    "q.isEmpty()"
   ]
  },
  {
   "cell_type": "code",
   "execution_count": 6,
   "id": "8264acce",
   "metadata": {},
   "outputs": [],
   "source": [
    "q.qClear()"
   ]
  },
  {
   "cell_type": "code",
   "execution_count": 7,
   "id": "3a8bb849",
   "metadata": {},
   "outputs": [
    {
     "data": {
      "text/plain": [
       "'queue is empty'"
      ]
     },
     "execution_count": 7,
     "metadata": {},
     "output_type": "execute_result"
    }
   ],
   "source": [
    "q.peek_from_front()"
   ]
  },
  {
   "cell_type": "code",
   "execution_count": 10,
   "id": "23d3c50f",
   "metadata": {},
   "outputs": [
    {
     "data": {
      "text/plain": [
       "40"
      ]
     },
     "execution_count": 10,
     "metadata": {},
     "output_type": "execute_result"
    }
   ],
   "source": [
    "q.peek_from_end()"
   ]
  },
  {
   "cell_type": "code",
   "execution_count": null,
   "id": "e826ea6c",
   "metadata": {},
   "outputs": [],
   "source": []
  }
 ],
 "metadata": {
  "kernelspec": {
   "display_name": "Python 3",
   "language": "python",
   "name": "python3"
  },
  "language_info": {
   "codemirror_mode": {
    "name": "ipython",
    "version": 3
   },
   "file_extension": ".py",
   "mimetype": "text/x-python",
   "name": "python",
   "nbconvert_exporter": "python",
   "pygments_lexer": "ipython3",
   "version": "3.13.5"
  }
 },
 "nbformat": 4,
 "nbformat_minor": 5
}
